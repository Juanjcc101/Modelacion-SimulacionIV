{
 "cells": [
  {
   "cell_type": "code",
   "execution_count": 6,
<<<<<<< HEAD
   "metadata": {},
   "outputs": [],
   "source": [
    "import pandas as pd\n",
    "import numpy as np\n",
    "# Se cambio que el numero de clases ya no es parametro\n",
    "# Ojo que si establecemos los bins fijos, no hay que sumar el dato minimo\n",
    "def create_freq_dist_table2(data):\n",
    "    min_data = data[0].min()\n",
    "    min_data_ocurr = data[0].value_counts()[min_data]\n",
    "    max_data = data[0].max()\n",
    "    range_data = max_data - min_data\n",
    "    bins = range(90,121,5)\n",
    "    data['class'] = pd.cut(data[0],bins=bins)\n",
    "    data = data.groupby(\"class\")[0].count().to_frame(name=\"abs_freq\")\n",
    "    # data.iloc[0][\"abs_freq\"] += min_data_ocurr\n",
    "    data[\"rel_freq\"] = data.abs_freq/data.abs_freq.sum()\n",
    "    data[\"cum_abs_freq\"] = data.abs_freq.cumsum()\n",
    "    data[\"cum_rel_freq\"] = data[\"rel_freq\"].cumsum()\n",
    "    data = data.reset_index()\n",
    "    data['class_mark'] = data['class'].apply(lambda x: (x.left+x.right)/2)\n",
    "    # cols = data.columns.tolist()    TODO\n",
    "    # cols = cols[-1:] + cols[:-1]    TODO\n",
    "    return data,bins\n",
    "\n",
    "def data_from_table(table):\n",
    "    media = round(sum(table.apply(lambda x:(x['rel_freq']*x['class_mark']),axis=1)),6)\n",
    "    std = round(np.sqrt(sum(table.apply(lambda row:((row['class_mark']-media)**2)*row['abs_freq'],axis = 1))/table.iloc[-1,3]),6)\n",
    "    std1 = np.sqrt(sum(table.apply(lambda row:((row['class_mark']-media)**2)*row['abs_freq'],axis = 1))/(table.iloc[-1,3]-1))\n",
    "    asim = sum(table.apply(lambda row:((row['class_mark']-media)**3)*row['abs_freq'],axis = 1))/(table.iloc[-1,3]*(std1**3))\n",
    "    kurt = (sum(table.apply(lambda row:((row['class_mark']-media)**4)*row['abs_freq'],axis = 1))/(table.iloc[-1,3]*(std1**4)))-3\n",
    "    quantile_25 = quantile(25,table)\n",
    "    quantile_50 = quantile(50,table)\n",
    "    quantile_75 = quantile(75,table)\n",
    "    min=table.iloc[0,0].left\n",
    "    max=table.iloc[-1,0].right\n",
    "    return pd.Series([media,std,min,quantile_25,quantile_50,quantile_75,max,asim,kurt])\n",
    "\n",
    "# Genera datos aleatorios, con la misma distribucion de los datos originales\n",
    "def generate_data(freq_table,k):\n",
    "    gen_data = pd.Series(dtype='float64')\n",
    "    n_data_bef = freq_table.iloc[-1][\"cum_abs_freq\"]\n",
    "    intervals, freq_bef = freq_table[\"class\"], freq_table[\"rel_freq\"]\n",
    "    for i in range(len(intervals)):\n",
    "        data_numb = int(round(freq_bef.iloc[i]*k,0))\n",
    "        low_bound = intervals.iloc[i].left\n",
    "        high_bound = intervals.iloc[i].right\n",
    "        gen_data = pd.concat([gen_data,pd.Series(np.random.uniform(low_bound,high_bound,data_numb))])\n",
    "    return pd.DataFrame(gen_data)\n",
    " \n",
    "def quantile(q, table):\n",
    "    n = max(table['cum_abs_freq'])\n",
    "    index = (q/100)*n\n",
    "    condition = table['cum_abs_freq'] >= index\n",
    "    row =  condition.idxmax()\n",
    "    Li = table['class'].iloc[row].left\n",
    "    len_interval = table['class'].iloc[row].length\n",
    "    Ni = table['abs_freq'].iloc[row]\n",
    "    j = index - table['cum_abs_freq'].iloc[row-1]\n",
    "    return (Li + len_interval*(j/Ni))"
   ]
  },
  {
   "cell_type": "code",
   "execution_count": 8,
   "metadata": {},
   "outputs": [
    {
     "name": "stdout",
     "output_type": "stream",
     "text": [
      "                             data\n",
      "0               Media  105.666667\n",
      "1  Standard Deviation    8.008676\n",
      "2             Minimum   90.000000\n",
      "3                 25%   98.437500\n",
      "4                 50%  105.000000\n",
      "5                 75%  112.916667\n",
      "6             Maximum  120.000000\n",
      "7                Skew    0.070481\n",
      "8            Kurtosis   -1.429928\n",
      "                          data\n",
      "                              \n",
      "Media               105.666183\n",
      "Standard Deviation    8.009080\n",
      "Minimum              90.000000\n",
      "25%                  98.436914\n",
      "50%                 104.998500\n",
      "75%                 112.916875\n",
      "Maximum             120.000000\n",
      "Skew                  0.074231\n",
      "Kurtosis             -1.320167\n",
      "121.68434300000001\n"
=======
   "metadata": {},
   "outputs": [
    {
     "ename": "NameError",
     "evalue": "name 'pd' is not defined",
     "output_type": "error",
     "traceback": [
      "\u001b[1;31m---------------------------------------------------------------------------\u001b[0m",
      "\u001b[1;31mNameError\u001b[0m                                 Traceback (most recent call last)",
      "\u001b[1;32m~\\AppData\\Local\\Temp/ipykernel_10592/168715190.py\u001b[0m in \u001b[0;36m<module>\u001b[1;34m\u001b[0m\n\u001b[0;32m     11\u001b[0m \u001b[0mlista\u001b[0m \u001b[1;33m=\u001b[0m \u001b[0mdata_from_histogram\u001b[0m\u001b[1;33m(\u001b[0m\u001b[1;36m6\u001b[0m\u001b[1;33m,\u001b[0m\u001b[1;36m110\u001b[0m\u001b[1;33m,\u001b[0m\u001b[1;36m115\u001b[0m\u001b[1;33m,\u001b[0m\u001b[0mlista\u001b[0m\u001b[1;33m)\u001b[0m\u001b[1;33m\u001b[0m\u001b[1;33m\u001b[0m\u001b[0m\n\u001b[0;32m     12\u001b[0m \u001b[0mlista\u001b[0m \u001b[1;33m=\u001b[0m \u001b[0mdata_from_histogram\u001b[0m\u001b[1;33m(\u001b[0m\u001b[1;36m5\u001b[0m\u001b[1;33m,\u001b[0m\u001b[1;36m115\u001b[0m\u001b[1;33m,\u001b[0m\u001b[1;36m120\u001b[0m\u001b[1;33m,\u001b[0m\u001b[0mlista\u001b[0m\u001b[1;33m)\u001b[0m\u001b[1;33m\u001b[0m\u001b[1;33m\u001b[0m\u001b[0m\n\u001b[1;32m---> 13\u001b[1;33m \u001b[0mdata2\u001b[0m \u001b[1;33m=\u001b[0m \u001b[0mpd\u001b[0m\u001b[1;33m.\u001b[0m\u001b[0mSeries\u001b[0m\u001b[1;33m(\u001b[0m\u001b[0mlista\u001b[0m\u001b[1;33m)\u001b[0m\u001b[1;33m\u001b[0m\u001b[1;33m\u001b[0m\u001b[0m\n\u001b[0m",
      "\u001b[1;31mNameError\u001b[0m: name 'pd' is not defined"
>>>>>>> e4a6b9cb4bec7de30b027944370bf06c6253d70f
     ]
    }
   ],
   "source": [
<<<<<<< HEAD
=======
    "import pandas as pd\n",
>>>>>>> e4a6b9cb4bec7de30b027944370bf06c6253d70f
    "def data_from_histogram(num_data, lim_inf,lim_sup,lista):\n",
    "  for i in range(num_data):\n",
    "    lista.append(np.random.uniform(lim_inf,lim_sup))\n",
    "  return lista\n",
    "\n",
    "lista = []\n",
    "lista = data_from_histogram(2,90,95,lista)\n",
    "lista = data_from_histogram(8,95,100,lista)\n",
    "lista = data_from_histogram(5,100,105,lista)\n",
    "lista = data_from_histogram(4,105,110,lista)\n",
    "lista = data_from_histogram(6,110,115,lista)\n",
    "lista = data_from_histogram(5,115,120,lista)\n",
<<<<<<< HEAD
    "data2 = pd.Series(lista)\n",
    "\n",
=======
    "data2 = pd.Series(lista)"
   ]
  },
  {
   "cell_type": "code",
   "execution_count": null,
   "metadata": {},
   "outputs": [],
   "source": [
>>>>>>> e4a6b9cb4bec7de30b027944370bf06c6253d70f
    "def main2():\n",
    "    #Vamos a generar los datos como la tabla dada.\n",
    "    data = pd.DataFrame(data2)\n",
    "    # data.hist(bins = range(90,121,5))\n",
    "    table, bins = create_freq_dist_table2(data)\n",
    "    stats = data_from_table(table)\n",
    "    d = pd.DataFrame({'': ['Media','Standard Deviation','Minimum','25%','50%','75%','Maximum','Skew','Kurtosis'],\"data\":stats})\n",
    "    print(d)\n",
<<<<<<< HEAD
    "    datos_generados = generate_data(table,10000)\n",
    "    #data.hist(bins = range(90,121,5))\n",
    "    #datos_generados.hist(bins = range(90,121,5))\n",
    "\n",
    "    table2, bins = create_freq_dist_table2(datos_generados)\n",
    "    stats2 = data_from_table(table2)\n",
    "    d2 = pd.DataFrame({'': ['Media','Standard Deviation','Minimum','25%','50%','75%','Maximum','Skew','Kurtosis'],\"data\":stats2}).set_index('')\n",
    "    media2 = d2.loc['Media'][0]\n",
    "    std2 = d2.loc['Standard Deviation'][0]\n",
    "    multados = media2 + 2*std2\n",
    "    print(d2)\n",
    "    multados = media2 + 2*std2\n",
    "    print(multados)\n",
=======
>>>>>>> e4a6b9cb4bec7de30b027944370bf06c6253d70f
    "main2()"
   ]
  }
 ],
 "metadata": {
  "kernelspec": {
   "display_name": "Python 3",
   "language": "python",
   "name": "python3"
  },
  "language_info": {
   "codemirror_mode": {
    "name": "ipython",
    "version": 3
   },
   "file_extension": ".py",
   "mimetype": "text/x-python",
   "name": "python",
   "nbconvert_exporter": "python",
   "pygments_lexer": "ipython3",
   "version": "3.8.8"
  },
  "orig_nbformat": 4
 },
 "nbformat": 4,
 "nbformat_minor": 2
}
